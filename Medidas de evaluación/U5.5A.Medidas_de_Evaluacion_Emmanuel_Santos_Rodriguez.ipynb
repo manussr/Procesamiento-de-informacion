{
 "cells": [
  {
   "cell_type": "markdown",
   "id": "0916476c",
   "metadata": {},
   "source": [
    "# Introducción"
   ]
  },
  {
   "cell_type": "markdown",
   "id": "7b07016b",
   "metadata": {},
   "source": [
    "La clasificación automática es una herramienta muy importante en la actualidad debido a la gran cantidad de información de la que disponemos, ya que nos permite utilizar algoritmos computacionales y técnicas de aprendizaje automático para categorizar datos en un conjunto de etiquetas definidas sin necesidad de intervención humana. La finalidad es asignar a los datos las categorías correctas de forma exacta y eficiente. Esto tiene bastantes aplicaciones en campos muy diversos, como detección de enfermedades a partir de imágenes de pacientes, clasificación de productos en un comercio electrónico, control de calidad, entre otros. Asimismo, esto es aplicable para textos, por ejemplo en sistemas de reconocimiento de spam, clasificación de documentos, etc.\n",
    "\n",
    "Debido a esto, surge la necesidad de crear metodologías que permitan evaluar las predicciones de un algoritmo de clasificación. \n",
    "\n",
    "El objetivo de este trabajo es realizar la evaluación, mediante métricas como exactitud, precisión, recall y $F_{1}$ de algoritmos de clasificación, en particular Support Vector Machine (SVM) y Naive Bayes (NB) y comparar los resultados obtenidos usando distintas representaciones vectoriales."
   ]
  },
  {
   "cell_type": "markdown",
   "id": "42186507",
   "metadata": {},
   "source": [
    "# Desarrollo"
   ]
  },
  {
   "cell_type": "markdown",
   "id": "5940be14",
   "metadata": {},
   "source": [
    "## Descripción de los conjuntos de datos"
   ]
  },
  {
   "cell_type": "markdown",
   "id": "86a25b08",
   "metadata": {},
   "source": [
    "Para la realización de este trabajo se usaron dos conjuntos. A continuación se describe cada uno:"
   ]
  },
  {
   "cell_type": "markdown",
   "id": "63afa09b",
   "metadata": {},
   "source": [
    "### Conjunto de datos cellphones"
   ]
  },
  {
   "cell_type": "markdown",
   "id": "a1b7225d",
   "metadata": {},
   "source": [
    "Este  conjunto de datos está conformado por tweets sobre celulares, incluyendo algunas marcas en específico. El objetivo de los datos en este conjunto es detectar la polaridad acerca del tema. Los elementos del conjunto de datos están formados por categoría, identificador, clase, texto y tipo.\n",
    "\n",
    "El campo clase (klass) tiene los valores posibles information, positive, negative y neutral. Estas etiquetas fueron asignadas de forma manual por personas y se asumen como verdaderas. \n",
    "\n",
    "En este caso, nos concentramos en los campos texto y clase para realizar el entrenamiento de los algoritmos de clasificación.\n",
    "\n",
    "A continuación se muestra un ejemplo de un tweet de este conjunto:\n",
    "\n",
    "> {\"categories\": \"[ \\\"DEVICE\\\", \\\"OS\\\" ]\", \"id\": \"d0fb202ea47c3cad448ea4e5e31bd404\", \"klass\": \"information\", \"text\": \"RT @matukpuntocom: Xperia Play se quedar\\u00e1 sin Android 4.0 http://t.co/463lAcCp\", \"type\": \"Xperia\"}\n",
    "\n",
    "Se usarán 2 conjuntos: conjunto de entrenamiento y conjunto de prueba.\n",
    "\n",
    "En las siguientes tablas se encuentran las distribuciones de las clases para los conjuntos de entrenamiento y prueba, respectivamente:\n",
    "\n",
    "| Information      | Negative | Neutral    | Positive     |\n",
    "| :---        |    :----:   |          ---: |         ---: |\n",
    "| 7516      | 860       | 1856   | 1212    |\n",
    "\n",
    "| Information      | Negative | Neutral    | Positive     |\n",
    "| :---        |    :----:   |          ---: |         ---: |\n",
    "| 3222      | 368       | 796   | 519    |"
   ]
  },
  {
   "cell_type": "markdown",
   "id": "1afa5aac",
   "metadata": {},
   "source": [
    "### Conjunto de datos aggresiveness"
   ]
  },
  {
   "cell_type": "markdown",
   "id": "adab4940",
   "metadata": {},
   "source": [
    "Este  conjunto de datos está conformado por tweets que pueden contener o no comentarios agresivos. El objetivo de los datos en este conjunto es detectar si existe agresividad en el texto. Los elementos del conjunto de datos están formados por identificador, clase, texto.\n",
    "\n",
    "El campo clase (klass) tiene dos valores posibles positivo o negativo. Estas etiquetas fueron asignadas de forma manual por personas y se asumen como verdaderas. \n",
    "\n",
    "En este caso, también nos concentramos en los campos texto y clase para realizar el entrenamiento de los algoritmos de clasificación.\n",
    "\n",
    "A continuación se muestra un ejemplo de un tweet de este conjunto:\n",
    "\n",
    "> {\"id\": 2283, \"klass\": 1, \"text\": \"de verdad que chinguen a su madre todos hoy me cae\\n\"}\n",
    "\n",
    "Se usarán 2 conjuntos: conjunto de entrenamiento y conjunto de prueba.\n",
    "\n",
    "En las siguientes tablas se encuentran las distribuciones de las clases para los conjuntos de entrenamiento y prueba, respectivamente:\n",
    "\n",
    "| Negativo      | Positivo | \n",
    "| :---        |    :----:   | \n",
    "| 3655      | 1477       | \n",
    "\n",
    "| Negativo      | Positivo | \n",
    "| :---        |    :----:   | \n",
    "| 1565      | 631       | "
   ]
  },
  {
   "cell_type": "markdown",
   "id": "7a02482c",
   "metadata": {},
   "source": [
    "## Implementación"
   ]
  },
  {
   "cell_type": "markdown",
   "id": "25880d68",
   "metadata": {},
   "source": [
    "La implementación de esta solución se utilizó Python. A continuación se muestra el código para los puntos más importantes."
   ]
  },
  {
   "cell_type": "markdown",
   "id": "1e21c5fe",
   "metadata": {},
   "source": [
    "### Preprocesamiento"
   ]
  },
  {
   "cell_type": "code",
   "execution_count": 5,
   "id": "4b007870",
   "metadata": {},
   "outputs": [],
   "source": [
    "PUNCTUACTION = \";:,.\\\\-\\\"'/\"\n",
    "SYMBOLS = \"()[]¿?¡!{}~<>|\"\n",
    "SKIP_SYMBOLS = set(PUNCTUACTION + SYMBOLS)\n",
    "SKIP_SYMBOLS_AND_SPACES = set(PUNCTUACTION + SYMBOLS + '\\t\\n\\r ')\n",
    "\n",
    "def normalize_text(input_str,\n",
    "                   punct=False,\n",
    "                   accents=False,\n",
    "                   max_dup=2):\n",
    "    nfkd_f = unicodedata.normalize('NFKD', input_str)\n",
    "    n_str = []\n",
    "    c_prev = ''\n",
    "    cc_prev = 0\n",
    "    for c in nfkd_f:\n",
    "        if not punct:\n",
    "            if c in SKIP_SYMBOLS:\n",
    "                continue\n",
    "        if not accents and unicodedata.combining(c):\n",
    "            continue\n",
    "        if c_prev == c:\n",
    "            cc_prev += 1\n",
    "            if cc_prev >= max_dup:\n",
    "                continue\n",
    "        else:\n",
    "            cc_prev = 0\n",
    "        n_str.append(c)\n",
    "        c_prev = c\n",
    "    return \"\".join(n_str)"
   ]
  },
  {
   "cell_type": "markdown",
   "id": "16093f04",
   "metadata": {},
   "source": [
    "La función anterior se utiliza para preprocesar el texto. Permite remover acentos, signos de puntuación, y limitar la cantidad de caracteres duplicados consecutivos. Recibe como parámetro el texto que se desee preprocesar. También tiene parámetros que permiten conservar la puntuación, acentos (falsos por defecto )y el numero de caracteres duplicados (2, por defecto). "
   ]
  },
  {
   "cell_type": "markdown",
   "id": "0620c528",
   "metadata": {},
   "source": [
    "### Lectura de datos"
   ]
  },
  {
   "cell_type": "code",
   "execution_count": 7,
   "id": "dd22375e",
   "metadata": {},
   "outputs": [],
   "source": [
    "def line_iterator(filename):\n",
    "    if filename.endswith(\".gz\"):\n",
    "        f = gzip.GzipFile(filename)\n",
    "    else:\n",
    "        f = open(filename, encoding='utf8')\n",
    "\n",
    "    while True:\n",
    "        line = f.readline()\n",
    "        # Test the type of the line and encode it if neccesary...\n",
    "        if type(line) is bytes:\n",
    "            line = str(line, encoding='utf8')\n",
    "\n",
    "        # If the line is empty, we are done...\n",
    "        if len(line) == 0:\n",
    "            break\n",
    "\n",
    "        line = line.strip()\n",
    "        # If line is empty, jump to next...\n",
    "        if len(line) == 0:\n",
    "            continue\n",
    "\n",
    "        yield line\n",
    "\n",
    "    # Close the file...\n",
    "    f.close()\n",
    "\n",
    "def tweet_iterator(filename):\n",
    "    for line in line_iterator(filename):\n",
    "        yield json.loads(line)"
   ]
  },
  {
   "cell_type": "markdown",
   "id": "35ddbe65",
   "metadata": {},
   "source": [
    "Las funciones anteriores nos ayudan a leer y procesar los tweets del conjunto de datos, a partir de un archivo de texto usando un enfoque basado en iteradores. Finalmente, devuelven un objeto JSON que nos permite realizar operaciones con él. Recibe como parámetro el nombre del archivo a utilizar."
   ]
  },
  {
   "cell_type": "markdown",
   "id": "0f8b91cd",
   "metadata": {},
   "source": [
    "### Carga del conjunto de datos"
   ]
  },
  {
   "cell_type": "markdown",
   "id": "96ecdaaa",
   "metadata": {},
   "source": [
    "Esta función nos permite obtener el texto preprocesado y las clases asociadas a cada tweet en el conjunto de datos. Recibe como parámetro el nombre del archivo del conjunto de datos."
   ]
  },
  {
   "cell_type": "code",
   "execution_count": 9,
   "id": "ee51b71f",
   "metadata": {},
   "outputs": [],
   "source": [
    "def load_corpus(file):\n",
    "    X=[]\n",
    "    Y=[]    \n",
    "    for review in tweet_iterator(file):\n",
    "        text = normalize_text(review['text'])\n",
    "        X.append(text.lower())\n",
    "        Y.append(review['klass'])        \n",
    "    return X,Y"
   ]
  },
  {
   "cell_type": "markdown",
   "id": "2ddaf3be",
   "metadata": {},
   "source": [
    "### Vectorización de los datos"
   ]
  },
  {
   "cell_type": "markdown",
   "id": "a91a3cc9",
   "metadata": {},
   "source": [
    "Para poder entrenar los algoritmos de clasificación, se debe transformar el texto a una representación numérica. En este caso, se eligieron 2 transformaciones: frecuencia de términos (TF) y  frecuencia de término – frecuencia inversa de documento (TF-IDF). A continuación se muestra el código:"
   ]
  },
  {
   "cell_type": "markdown",
   "id": "f5339fbd",
   "metadata": {},
   "source": [
    "Primero se cargan los conjuntos de datos para cellphones: el conjunto formado por el archivo cellphones_train.json servirá como conjunto de entrenamiento y cellphones_test.json como conjunto de prueba. Para el conjunto de datos de agresividad, el archivo AgresivenessDetection_train.json servirá como conjunto de entrenamiento y AgresivenessDetection_train.json como conjunto de prueba  En todos los casos, se excluyen las stop-words."
   ]
  },
  {
   "cell_type": "code",
   "execution_count": null,
   "id": "9015a236",
   "metadata": {},
   "outputs": [],
   "source": [
    "X_cell_train, Y_cell_train = load_corpus(\"cellphones_train.json\")\n",
    "X_cell_test, Y_cell_test = load_corpus(\"cellphones_test.json\")"
   ]
  },
  {
   "cell_type": "code",
   "execution_count": null,
   "id": "db1f4c00",
   "metadata": {},
   "outputs": [],
   "source": [
    "X_aggr_train, Y_aggr_train = load_corpus(\"AggressivenessDetection_train.json\")\n",
    "X_aggr_test, Y_aggr_test = load_corpus(\"AggressivenessDetection_test.json\")"
   ]
  },
  {
   "cell_type": "markdown",
   "id": "d304c5e3",
   "metadata": {},
   "source": [
    "Posteriormente, usamos CountVectorizer para obtener la representación vectorial usando la frecuencia de términos, para los textos de los tweets de los conjuntos de entrenamiento:"
   ]
  },
  {
   "cell_type": "code",
   "execution_count": null,
   "id": "bfcdd0b9",
   "metadata": {},
   "outputs": [],
   "source": [
    "vectorizer_cell = CountVectorizer(stop_words=stopwords.words('spanish'))  \n",
    "X_vec_cell_tf = vectorizer_cell.fit_transform(X_cell_train)"
   ]
  },
  {
   "cell_type": "code",
   "execution_count": null,
   "id": "ff9efd05",
   "metadata": {},
   "outputs": [],
   "source": [
    "tfidfvec_cell = TfidfVectorizer(stop_words=stopwords.words('spanish'))  \n",
    "X_vec_cell_tf_idf = tfidfvec_cell.fit_transform(X_cell_train)"
   ]
  },
  {
   "cell_type": "markdown",
   "id": "1e46f35b",
   "metadata": {},
   "source": [
    "De forma análoga, obtenemos la representación usando TF-IDF:"
   ]
  },
  {
   "cell_type": "code",
   "execution_count": null,
   "id": "5ff7dea0",
   "metadata": {},
   "outputs": [],
   "source": [
    "vectorizer_aggr = CountVectorizer(stop_words=stopwords.words('spanish'))  \n",
    "X_vec_aggr_tf = vectorizer_aggr.fit_transform(X_aggr_train)"
   ]
  },
  {
   "cell_type": "code",
   "execution_count": null,
   "id": "53f992da",
   "metadata": {},
   "outputs": [],
   "source": [
    "tfidfvec_aggr = TfidfVectorizer(stop_words=stopwords.words('spanish'))  \n",
    "X_vec_aggr_tf_idf = tfidfvec_aggr.fit_transform(X_aggr_train)"
   ]
  },
  {
   "cell_type": "markdown",
   "id": "19c18736",
   "metadata": {},
   "source": [
    "### Entrenamiento de los algoritmos de clasificación"
   ]
  },
  {
   "cell_type": "markdown",
   "id": "7d84fe67",
   "metadata": {},
   "source": [
    "Para la clasificación se eligieron 2 algoritmos: Naive Bayes (NB) y Support Vector Machine (SVM). Para cada algoritmo se usarán las 2 representaciones TF y TF-IDF y se entrenarán para cada conjunto:"
   ]
  },
  {
   "cell_type": "markdown",
   "id": "2da47f40",
   "metadata": {},
   "source": [
    "Primero, se entrenan los clasificadores Naive Bayes:"
   ]
  },
  {
   "cell_type": "markdown",
   "id": "7f18a03c",
   "metadata": {},
   "source": [
    "Entrenando Naive Bayes con TF para el conjunto de datos cellphone:"
   ]
  },
  {
   "cell_type": "code",
   "execution_count": null,
   "id": "b8a5c595",
   "metadata": {},
   "outputs": [],
   "source": [
    "mnb_cell_tf = MultinomialNB()\n",
    "mnb_cell_tf.fit(X_vec_cell_tf, Y_cell_train)"
   ]
  },
  {
   "cell_type": "markdown",
   "id": "e8eb1657",
   "metadata": {},
   "source": [
    "Entrenando Naive Bayes con TF-IDF para el conjunto de datos cellphone:"
   ]
  },
  {
   "cell_type": "code",
   "execution_count": null,
   "id": "d464b930",
   "metadata": {},
   "outputs": [],
   "source": [
    "mnb_cell_tfidf = MultinomialNB()\n",
    "mnb_cell_tfidf.fit(X_vec_cell_tf_idf, Y_cell_train)"
   ]
  },
  {
   "cell_type": "markdown",
   "id": "f6d277e7",
   "metadata": {},
   "source": [
    "Entrenando Naive Bayes con TF para el conjunto de datos de agresividad:"
   ]
  },
  {
   "cell_type": "code",
   "execution_count": null,
   "id": "2cc7cf96",
   "metadata": {},
   "outputs": [],
   "source": [
    "mnb_aggr_tf = MultinomialNB()\n",
    "mnb_aggr_tf.fit(X_vec_aggr_tf, Y_aggr_train)"
   ]
  },
  {
   "cell_type": "markdown",
   "id": "bc14e606",
   "metadata": {},
   "source": [
    "Entrenando Naive Bayes con TF-IDF para el conjunto de datos de agresividad:"
   ]
  },
  {
   "cell_type": "code",
   "execution_count": null,
   "id": "c7c81eb5",
   "metadata": {},
   "outputs": [],
   "source": [
    "mnb_aggr_tfidf = MultinomialNB()\n",
    "mnb_aggr_tfidf.fit(X_vec_aggr_tf_idf, Y_aggr_train)"
   ]
  },
  {
   "cell_type": "markdown",
   "id": "4011c08d",
   "metadata": {},
   "source": [
    "Posteriormente, se entrenan los clasificadores SMV:"
   ]
  },
  {
   "cell_type": "markdown",
   "id": "93501950",
   "metadata": {},
   "source": [
    "Entrenando SVM con TF para el conjunto de datos cellphone:"
   ]
  },
  {
   "cell_type": "code",
   "execution_count": null,
   "id": "3cdbe588",
   "metadata": {},
   "outputs": [],
   "source": [
    "svc_cell_tf = LinearSVC(random_state=0, max_iter=3000)\n",
    "svc_cell_tf.fit(X_vec_cell_tf, Y_cell_train)"
   ]
  },
  {
   "cell_type": "markdown",
   "id": "e2dfab2e",
   "metadata": {},
   "source": [
    "Entrenando SVM con TF-IDF para el conjunto de datos cellphone:"
   ]
  },
  {
   "cell_type": "code",
   "execution_count": null,
   "id": "5cf769fc",
   "metadata": {},
   "outputs": [],
   "source": [
    "svc_cell_tfidf = LinearSVC(random_state=0, max_iter=3000)\n",
    "svc_cell_tfidf.fit(X_vec_cell_tf_idf, Y_cell_train)"
   ]
  },
  {
   "cell_type": "markdown",
   "id": "fe131adf",
   "metadata": {},
   "source": [
    "Entrenando SVM con TF para el conjunto de datos de agresividad:"
   ]
  },
  {
   "cell_type": "code",
   "execution_count": null,
   "id": "d89880b0",
   "metadata": {},
   "outputs": [],
   "source": [
    "svc_aggr_tf = LinearSVC(random_state=0, max_iter=3000)\n",
    "svc_aggr_tf.fit(X_vec_aggr_tf, Y_aggr_train)"
   ]
  },
  {
   "cell_type": "markdown",
   "id": "99d2b77c",
   "metadata": {},
   "source": [
    "Entrenando SVM con TF-IDF para el conjunto de datos de agresividad:"
   ]
  },
  {
   "cell_type": "code",
   "execution_count": null,
   "id": "1e1046ce",
   "metadata": {},
   "outputs": [],
   "source": [
    "svc_aggr_tfidf = LinearSVC(random_state=0, max_iter=3000)\n",
    "svc_aggr_tfidf.fit(X_vec_aggr_tf_idf, Y_aggr_train)"
   ]
  },
  {
   "cell_type": "markdown",
   "id": "7f6dca81",
   "metadata": {},
   "source": [
    "### Predicciones"
   ]
  },
  {
   "cell_type": "markdown",
   "id": "67d18bcb",
   "metadata": {},
   "source": [
    "Si se desea realizar predicciones debemos vectorizar los datos de prueba usando TF y TF-IDF y posteriormente usar el modelo correspondiente. A continuación se muestra el código para realizar lo descrito:"
   ]
  },
  {
   "cell_type": "markdown",
   "id": "8f4d6acf",
   "metadata": {},
   "source": [
    "Primero se vectorizan los datos de cellphones:"
   ]
  },
  {
   "cell_type": "code",
   "execution_count": null,
   "id": "c9083546",
   "metadata": {},
   "outputs": [],
   "source": [
    "#Vectorizando datasets de prueba cellphones\n",
    "X_test_cell_vec_tf_idf = tfidfvec_cell.transform(X_cell_test)\n",
    "X_test_cell_vec_tf = vectorizer_cell.transform(X_cell_test)"
   ]
  },
  {
   "cell_type": "markdown",
   "id": "55dc6dbd",
   "metadata": {},
   "source": [
    "Luego, se vectorizan los de agresividad:"
   ]
  },
  {
   "cell_type": "code",
   "execution_count": null,
   "id": "5fb289f9",
   "metadata": {},
   "outputs": [],
   "source": [
    "X_test_aggr_vec_tf_idf = tfidfvec_aggr.transform(X_aggr_test)\n",
    "X_test_aggr_vec_tf = vectorizer_aggr.transform(X_aggr_test)"
   ]
  },
  {
   "cell_type": "markdown",
   "id": "8beca46b",
   "metadata": {},
   "source": [
    "Prediciendo datos con NB y TF para el conjunto de prueba cellphones:"
   ]
  },
  {
   "cell_type": "code",
   "execution_count": null,
   "id": "0ef09f09",
   "metadata": {},
   "outputs": [],
   "source": [
    "y_mnb_cell_test_predict_tf = mnb_cell_tf.predict(X_test_cell_vec_tf)"
   ]
  },
  {
   "cell_type": "markdown",
   "id": "be601d98",
   "metadata": {},
   "source": [
    "Prediciendo datos con NB y TF-IDF para el conjunto de prueba cellphones:"
   ]
  },
  {
   "cell_type": "code",
   "execution_count": null,
   "id": "58431d02",
   "metadata": {},
   "outputs": [],
   "source": [
    "y_mnb_cell_test_predict_tfidf = mnb_cell_tfidf.predict(X_test_cell_vec_tf_idf)"
   ]
  },
  {
   "cell_type": "markdown",
   "id": "c9b07085",
   "metadata": {},
   "source": [
    "Prediciendo datos con NB y TF para el conjunto de prueba de agresividad:"
   ]
  },
  {
   "cell_type": "code",
   "execution_count": null,
   "id": "c3d88509",
   "metadata": {},
   "outputs": [],
   "source": [
    "y_mnb_aggr_test_predict_tf = mnb_aggr_tf.predict(X_test_aggr_vec_tf)"
   ]
  },
  {
   "cell_type": "markdown",
   "id": "9dcec49d",
   "metadata": {},
   "source": [
    "Prediciendo datos con NB y TF-IDF para el conjunto de prueba de agresividad:"
   ]
  },
  {
   "cell_type": "code",
   "execution_count": null,
   "id": "13a9e0ca",
   "metadata": {},
   "outputs": [],
   "source": [
    "y_mnb_aggr_test_predict_tfidf = mnb_aggr_tfidf.predict(X_test_aggr_vec_tf_idf)"
   ]
  },
  {
   "cell_type": "markdown",
   "id": "dc37e229",
   "metadata": {},
   "source": [
    "Prediciendo datos con SVM y TF para el conjunto de prueba cellphones:"
   ]
  },
  {
   "cell_type": "code",
   "execution_count": null,
   "id": "784c9510",
   "metadata": {},
   "outputs": [],
   "source": [
    "y_svm_cell_test_predict_tf = svc_cell_tf.predict(X_test_cell_vec_tf)"
   ]
  },
  {
   "cell_type": "markdown",
   "id": "b67a33c3",
   "metadata": {},
   "source": [
    "Prediciendo datos con SVM y TF-IDF para el conjunto de prueba cellphones:"
   ]
  },
  {
   "cell_type": "code",
   "execution_count": null,
   "id": "6c19832b",
   "metadata": {},
   "outputs": [],
   "source": [
    "y_svm_cell_test_predict_tfidf = svc_cell_tfidf.predict(X_test_cell_vec_tf_idf)"
   ]
  },
  {
   "cell_type": "markdown",
   "id": "8926fbfc",
   "metadata": {},
   "source": [
    "Prediciendo datos con SVM y TF para el conjunto de prueba de agresividad:"
   ]
  },
  {
   "cell_type": "code",
   "execution_count": null,
   "id": "0ef27808",
   "metadata": {},
   "outputs": [],
   "source": [
    "y_svm_aggr_test_predict_tf = svc_aggr_tf.predict(X_test_aggr_vec_tf)"
   ]
  },
  {
   "cell_type": "markdown",
   "id": "07822521",
   "metadata": {},
   "source": [
    "Prediciendo datos con SVM y TF-IDF para el conjunto de prueba de agresividad:"
   ]
  },
  {
   "cell_type": "code",
   "execution_count": null,
   "id": "40286d3c",
   "metadata": {},
   "outputs": [],
   "source": [
    "y_svm_aggr_test_predict_tfidf = svc_aggr_tfidf.predict(X_test_aggr_vec_tf_idf)"
   ]
  },
  {
   "cell_type": "markdown",
   "id": "52b3cf4d",
   "metadata": {},
   "source": [
    "### Evaluación del desempeño"
   ]
  },
  {
   "cell_type": "markdown",
   "id": "243139c9",
   "metadata": {},
   "source": [
    "#### Métricas de evaluación"
   ]
  },
  {
   "cell_type": "markdown",
   "id": "7ea1936a",
   "metadata": {},
   "source": [
    "Para la evaluación del desempeño de los modelos entrenados, se usan las métricas de exactitud, precisión, recall y $F_1$, macro y micro. A continuación se muestran las definiciones de cada una de éstas:"
   ]
  },
  {
   "cell_type": "markdown",
   "id": "0a87ab9f",
   "metadata": {},
   "source": [
    "* __Exactitud (accuracy)__ :\n",
    "Es el número de ejemplos positivos clasificados correctamente dividido por\n",
    "el número de ejemplos etiquetados por el sistema como positivos:\n",
    "\n",
    "    $\\text{Exactitud} = \\frac{\\text{TP} + \\text{TN}}{\\text{TP} + \\text{TN} + \\text{FP} + \\text{FN}}$"
   ]
  },
  {
   "cell_type": "markdown",
   "id": "57fd668d",
   "metadata": {},
   "source": [
    "* __Precisión__: Es el número de ejemplos positivos clasificados correctamente dividido por\n",
    "el número de ejemplos positivos en los datos.\n",
    "\n",
    "    $\\text{Precision}_{\\text{micro}} = \\frac{\\sum_{i=1}^{C} \\text{TP}_i}{\\sum_{i=1}^{C} (\\text{TP}_i + \\text{FP}_i)}$\n",
    "    \n",
    "    $\\text{Precision}_{\\text{macro}} = \\frac{1}{C} \\sum_{i=1}^{C} \\frac{\\text{TP}_i}{\\text{TP}_i + \\text{FP}_i}$\n",
    "    "
   ]
  },
  {
   "cell_type": "markdown",
   "id": "c148f990",
   "metadata": {},
   "source": [
    "* __Recall__: Es el número de ejemplos positivos clasificados correctamente dividido por\n",
    "el número de ejemplos positivos en los datos\n",
    "\n",
    "    $\\text{Recall}_{\\text{micro}} = \\frac{\\sum_{i=1}^{C} \\text{TP}_i}{\\sum_{i=1}^{C} (\\text{TP}_i + \\text{FN}_i)}$\n",
    "\n",
    "    $\\text{Recall}_{\\text{macro}} = \\frac{1}{C} \\sum_{i=1}^{C} \\frac{\\text{TP}_i}{\\text{TP}_i + \\text{FN}_i}$"
   ]
  },
  {
   "cell_type": "markdown",
   "id": "a7d2c814",
   "metadata": {},
   "source": [
    "* __$F_{1}$__: Es la media harmónica de la precisión y recall\n",
    "\n",
    "    $\\text{F1}_{\\text{micro}} = \\frac{2 \\times \\sum_{i=1}^{C} \\text{TP}_i}{2 \\times \\sum_{i=1}^{C} \\text{TP}_i + \\sum_{i=1}^{C} (\\text{FP}_i + \\text{FN}_i)}$\n",
    "\n",
    "    $\\text{F1}_{\\text{macro}} = \\frac{1}{C} \\sum_{i=1}^{C} \\frac{2 \\times \\text{TP}_i}{2 \\times \\text{TP}_i + \\text{FP}_i + \\text{FN}_i}$"
   ]
  },
  {
   "cell_type": "markdown",
   "id": "c2264073",
   "metadata": {},
   "source": [
    "Donde TP (True Positive) son los ejemplos clasificados como positivos correctamente, TN (True Negative) son los ejemplos clasificados como negativos correctamente, FN (False Negative) son los ejemplos clasificados como negativos incorrectamente y FP (False Positive) son los ejemplos clasificados como positivos incorrectamente."
   ]
  },
  {
   "cell_type": "markdown",
   "id": "7e2e0118",
   "metadata": {},
   "source": [
    "La función siguiente nos permite medir el desempeño del modelo entrenado usando las métricas anteriormente descritas. Recibe como parámetros las clases reales y las predecidas."
   ]
  },
  {
   "cell_type": "code",
   "execution_count": 19,
   "id": "28c3553e",
   "metadata": {},
   "outputs": [],
   "source": [
    "def print_scores(true_labels, predicted_labels):\n",
    "    print(\"Accuracy = \", accuracy_score(true_labels, predicted_labels))\n",
    "    print(\"Recall macro  =\", recall_score(true_labels, predicted_labels, average='macro'))\n",
    "    print(\"Precision macro =\", precision_score(true_labels, predicted_labels, average='macro'))\n",
    "    print(\"F1 macro =\", f1_score(true_labels, predicted_labels, average='macro'))\n",
    "    print(\"Recall micro  =\", recall_score(true_labels, predicted_labels, average='micro'))\n",
    "    print(\"Precision micro =\", precision_score(true_labels, predicted_labels, average='micro'))\n",
    "    print(\"F1 micro =\", f1_score(true_labels, predicted_labels, average='micro'))"
   ]
  },
  {
   "cell_type": "markdown",
   "id": "c34e9277",
   "metadata": {},
   "source": [
    "#### Matriz de confusión"
   ]
  },
  {
   "cell_type": "markdown",
   "id": "8ce8b8cc",
   "metadata": {},
   "source": [
    "Por otra parte, también se usa la matriz de confusión, que nos permite representar el cálculo de los\n",
    "ejemplos de las clases reconocidos correctamente (true positive), el número\n",
    "de ejemplos reconocidos correctamente que no pertenecen a la clase (true\n",
    "negative), los ejemplos que fueron asignados incorrectamente a la clase\n",
    "(false positive), o los ejemplos que no fueron reconocidos como ejemplos de\n",
    "la clase (false negative)."
   ]
  },
  {
   "cell_type": "markdown",
   "id": "de722573",
   "metadata": {},
   "source": [
    "Mediante la siguiente función, obtenemos la matriz de confusión. Recibe como parámetro un arreglo de las etiquetas reales, un arreglo de predicciones y un arreglo del nombre de las etiquetas. "
   ]
  },
  {
   "cell_type": "code",
   "execution_count": null,
   "id": "e5effc9a",
   "metadata": {},
   "outputs": [],
   "source": [
    "def get_confusion_matrix(true_labels, predicted_labels, labels):\n",
    "    return confusion_matrix(true_labels, predicted_labels, labels = labels)"
   ]
  },
  {
   "cell_type": "markdown",
   "id": "566105be",
   "metadata": {},
   "source": [
    "### Visualización de los resultados"
   ]
  },
  {
   "cell_type": "markdown",
   "id": "db5597cf",
   "metadata": {},
   "source": [
    "#### Comparación de métricas"
   ]
  },
  {
   "cell_type": "code",
   "execution_count": null,
   "id": "28dbc2d1",
   "metadata": {},
   "outputs": [],
   "source": [
    "import matplotlib.pyplot as plt\n",
    "import numpy as np\n",
    "\n",
    "\n",
    "def plot_data(categories, group_names, values, title):\n",
    "    fig, ax = plt.subplots()\n",
    "  \n",
    "    bar_height = 0.15\n",
    "    bar_spacing = 0.1\n",
    "  \n",
    "    bar_positions = np.arange(len(categories)) * (len(group_names) * bar_height + bar_spacing)\n",
    "\n",
    "   \n",
    "    for i, group_name in enumerate(group_names):\n",
    "        bars = ax.barh(bar_positions + i * bar_height, values[i], bar_height, label=group_name)\n",
    "  \n",
    "    ax.set_xlabel('Valor métricas')\n",
    "    ax.set_ylabel('Métricas')\n",
    "    ax.set_title(title)\n",
    "    ax.set_yticks(bar_positions + ((len(group_names) - 1) * bar_height + bar_spacing) / 2)\n",
    "    ax.set_yticklabels(categories)\n",
    "    \n",
    "    ax.legend(loc='upper left', bbox_to_anchor=(1, 1))\n",
    "\n",
    "    fig.subplots_adjust(right=0.75)  # Adjust the value based on your plot\n",
    "\n",
    "    plt.show()"
   ]
  },
  {
   "cell_type": "markdown",
   "id": "e2a4ed55",
   "metadata": {},
   "source": [
    "Esta función nos permite comparar las predicciones obtenidas para cada algoritmo ( por cada conjunto de datos) de aprendizaje automático mediante una gráfica de barras. El primer parámetro es un arreglo de etiquetas del eje y, el segundo es un arreglo de etiquetas de cada algoritmo, el tercero son los valores de las métricas para cada algoritmo, y el título del gráfico."
   ]
  },
  {
   "cell_type": "markdown",
   "id": "25483660",
   "metadata": {},
   "source": [
    "## Resultados"
   ]
  },
  {
   "cell_type": "markdown",
   "id": "d17f3d91",
   "metadata": {},
   "source": [
    "### Desempeño de los clasificadores"
   ]
  },
  {
   "cell_type": "markdown",
   "id": "054e9317",
   "metadata": {},
   "source": [
    "Evaluamos las predicciones obtenidas por cada uno de los algoritmos para su conjunto de prueba respectivo, usando la función print_scores. Se evalúan usando las métricas exactitud, precisión, recall, $F_1$ (tanto micro como macro) y obtenemos la siguiente información:"
   ]
  },
  {
   "cell_type": "markdown",
   "id": "75131b4d",
   "metadata": {},
   "source": [
    "#### Conjunto cellphones"
   ]
  },
  {
   "cell_type": "markdown",
   "id": "8c8281ee",
   "metadata": {},
   "source": [
    " Primero evaluamos las predicciones para el conjunto cellphones. Los resultados se muestran en la siguiente tabla:"
   ]
  },
  {
   "cell_type": "markdown",
   "id": "81d14a21",
   "metadata": {},
   "source": [
    "| Algoritmo   | Exactitud | Recall macro  |  Precisión macro | $F_{1}$ macro |Recall micro | Precision micro | $F_{1}$ micro |\n",
    "| ----------- | ----------- | ----------- | ----------- | ----------- | ----------- | ----------- | ----------- |\n",
    "| Naive Bayes TF      | 0.734352       | 0.43924     |  0.71194       |  0.487520      | 0.734352     | 0.7343527      |  0.734352  |\n",
    "| Naive Bayes TF-IDF   | 0.70866       | 0.34762      | 0.90364       |0.37022       | 0.70866      | 0.70866       | 0.70866       |\n",
    "| SVM TF      | 0.7296       | 0.56490      |  0.59056       | 0.57663       | 0.72966     | 0.72966       | 0.72966       |\n",
    "| SVM TF-IDF   | 0.74760        | 0.56003      | 0.62301       |0.58622       | 0.74760      | 0.74760      | 0.74760       |"
   ]
  },
  {
   "cell_type": "markdown",
   "id": "68731314",
   "metadata": {},
   "source": [
    "De acuerdo a los datos anteriores, podemos ver que SVM TF-IDF es el modelo con mayor exactitud, pero en cuestión de precisión macro Naive Bayes TF es superior con 90.36% comparado con 62.3%. A pesar de esto, este modelo tiene la peor puntuación de $F_{1}$ macro. En cuestión de recall, precisión y $F_{1} $ micro, las puntuaciones son las mismas para las 3 métricas en cada modelo y son iguales que la exactitud correspondiente. Esto se debe a que en tareas de clasificación donde se garantiza que cada instancia  sea asignada a exactamente una clase, calcular un métrica micro es equivalente a calcular precisión"
   ]
  },
  {
   "cell_type": "code",
   "execution_count": 6,
   "id": "db26cde9",
   "metadata": {},
   "outputs": [],
   "source": [
    "from IPython.display import display, HTML"
   ]
  },
  {
   "cell_type": "markdown",
   "id": "c85ff891",
   "metadata": {},
   "source": [
    "A continuación se muestra la matriz de confusión obtenida para las predicciones realizadas con Naive Bayes y TF:"
   ]
  },
  {
   "cell_type": "code",
   "execution_count": 15,
   "id": "1e00d97b",
   "metadata": {},
   "outputs": [
    {
     "data": {
      "text/html": [
       "<table border=\"1\" class=\"dataframe\">\n",
       "  <thead>\n",
       "    <tr style=\"text-align: right;\">\n",
       "      <th></th>\n",
       "      <th>information</th>\n",
       "      <th>negative</th>\n",
       "      <th>neutral</th>\n",
       "      <th>positive</th>\n",
       "    </tr>\n",
       "  </thead>\n",
       "  <tbody>\n",
       "    <tr>\n",
       "      <th>information</th>\n",
       "      <td>3101</td>\n",
       "      <td>13</td>\n",
       "      <td>87</td>\n",
       "      <td>21</td>\n",
       "    </tr>\n",
       "    <tr>\n",
       "      <th>negative</th>\n",
       "      <td>260</td>\n",
       "      <td>52</td>\n",
       "      <td>48</td>\n",
       "      <td>8</td>\n",
       "    </tr>\n",
       "    <tr>\n",
       "      <th>neutral</th>\n",
       "      <td>458</td>\n",
       "      <td>6</td>\n",
       "      <td>316</td>\n",
       "      <td>16</td>\n",
       "    </tr>\n",
       "    <tr>\n",
       "      <th>positive</th>\n",
       "      <td>351</td>\n",
       "      <td>3</td>\n",
       "      <td>32</td>\n",
       "      <td>133</td>\n",
       "    </tr>\n",
       "  </tbody>\n",
       "</table>"
      ],
      "text/plain": [
       "<IPython.core.display.HTML object>"
      ]
     },
     "metadata": {},
     "output_type": "display_data"
    }
   ],
   "source": [
    "display(HTML('<table border=\"1\" class=\"dataframe\">\\n  <thead>\\n    <tr style=\"text-align: right;\">\\n      <th></th>\\n      <th>information</th>\\n      <th>negative</th>\\n      <th>neutral</th>\\n      <th>positive</th>\\n    </tr>\\n  </thead>\\n  <tbody>\\n    <tr>\\n      <th>information</th>\\n      <td>3101</td>\\n      <td>13</td>\\n      <td>87</td>\\n      <td>21</td>\\n    </tr>\\n    <tr>\\n      <th>negative</th>\\n      <td>260</td>\\n      <td>52</td>\\n      <td>48</td>\\n      <td>8</td>\\n    </tr>\\n    <tr>\\n      <th>neutral</th>\\n      <td>458</td>\\n      <td>6</td>\\n      <td>316</td>\\n      <td>16</td>\\n    </tr>\\n    <tr>\\n      <th>positive</th>\\n      <td>351</td>\\n      <td>3</td>\\n      <td>32</td>\\n      <td>133</td>\\n    </tr>\\n  </tbody>\\n</table>'))"
   ]
  },
  {
   "cell_type": "markdown",
   "id": "11c147ee",
   "metadata": {},
   "source": [
    "Se observa que en la mayoría de los casos, las instancias fueron asignadas a la clase mayoritaria. Es decir, se clasificaron incorrectamente instancias negativas, neutrales y positivas como de clase información."
   ]
  },
  {
   "cell_type": "markdown",
   "id": "5e8286c2",
   "metadata": {},
   "source": [
    "A continuación se muestra la matriz de confusión obtenida para las predicciones realizadas con Naive Bayes y TF-IDF:"
   ]
  },
  {
   "cell_type": "code",
   "execution_count": 16,
   "id": "688d137e",
   "metadata": {},
   "outputs": [
    {
     "data": {
      "text/html": [
       "<table border=\"1\" class=\"dataframe\">\n",
       "  <thead>\n",
       "    <tr style=\"text-align: right;\">\n",
       "      <th></th>\n",
       "      <th>information</th>\n",
       "      <th>negative</th>\n",
       "      <th>neutral</th>\n",
       "      <th>positive</th>\n",
       "    </tr>\n",
       "  </thead>\n",
       "  <tbody>\n",
       "    <tr>\n",
       "      <th>information</th>\n",
       "      <td>3213</td>\n",
       "      <td>0</td>\n",
       "      <td>8</td>\n",
       "      <td>1</td>\n",
       "    </tr>\n",
       "    <tr>\n",
       "      <th>negative</th>\n",
       "      <td>355</td>\n",
       "      <td>10</td>\n",
       "      <td>2</td>\n",
       "      <td>1</td>\n",
       "    </tr>\n",
       "    <tr>\n",
       "      <th>neutral</th>\n",
       "      <td>615</td>\n",
       "      <td>0</td>\n",
       "      <td>181</td>\n",
       "      <td>0</td>\n",
       "    </tr>\n",
       "    <tr>\n",
       "      <th>positive</th>\n",
       "      <td>447</td>\n",
       "      <td>0</td>\n",
       "      <td>0</td>\n",
       "      <td>72</td>\n",
       "    </tr>\n",
       "  </tbody>\n",
       "</table>"
      ],
      "text/plain": [
       "<IPython.core.display.HTML object>"
      ]
     },
     "metadata": {},
     "output_type": "display_data"
    }
   ],
   "source": [
    "display(HTML('<table border=\"1\" class=\"dataframe\">\\n  <thead>\\n    <tr style=\"text-align: right;\">\\n      <th></th>\\n      <th>information</th>\\n      <th>negative</th>\\n      <th>neutral</th>\\n      <th>positive</th>\\n    </tr>\\n  </thead>\\n  <tbody>\\n    <tr>\\n      <th>information</th>\\n      <td>3213</td>\\n      <td>0</td>\\n      <td>8</td>\\n      <td>1</td>\\n    </tr>\\n    <tr>\\n      <th>negative</th>\\n      <td>355</td>\\n      <td>10</td>\\n      <td>2</td>\\n      <td>1</td>\\n    </tr>\\n    <tr>\\n      <th>neutral</th>\\n      <td>615</td>\\n      <td>0</td>\\n      <td>181</td>\\n      <td>0</td>\\n    </tr>\\n    <tr>\\n      <th>positive</th>\\n      <td>447</td>\\n      <td>0</td>\\n      <td>0</td>\\n      <td>72</td>\\n    </tr>\\n  </tbody>\\n</table>'))"
   ]
  },
  {
   "cell_type": "markdown",
   "id": "eb0f16c1",
   "metadata": {},
   "source": [
    "En este caso, podemos ver que casi todas las instancias de information se clasificaron correctamente. Sin embargo, para las clases negative, neutral y positive, pocas instancias se asignaron a la clase verdadera mientras que la mayoría fueron asociadas a information. "
   ]
  },
  {
   "cell_type": "markdown",
   "id": "895e2d3a",
   "metadata": {},
   "source": [
    "A continuación se muestra la matriz de confusión obtenida para las predicciones realizadas con SVM y TF:"
   ]
  },
  {
   "cell_type": "code",
   "execution_count": 17,
   "id": "becdb109",
   "metadata": {},
   "outputs": [
    {
     "data": {
      "text/html": [
       "<table border=\"1\" class=\"dataframe\">\n",
       "  <thead>\n",
       "    <tr style=\"text-align: right;\">\n",
       "      <th></th>\n",
       "      <th>information</th>\n",
       "      <th>negative</th>\n",
       "      <th>neutral</th>\n",
       "      <th>positive</th>\n",
       "    </tr>\n",
       "  </thead>\n",
       "  <tbody>\n",
       "    <tr>\n",
       "      <th>information</th>\n",
       "      <td>2780</td>\n",
       "      <td>117</td>\n",
       "      <td>203</td>\n",
       "      <td>122</td>\n",
       "    </tr>\n",
       "    <tr>\n",
       "      <th>negative</th>\n",
       "      <td>132</td>\n",
       "      <td>146</td>\n",
       "      <td>53</td>\n",
       "      <td>37</td>\n",
       "    </tr>\n",
       "    <tr>\n",
       "      <th>neutral</th>\n",
       "      <td>308</td>\n",
       "      <td>38</td>\n",
       "      <td>385</td>\n",
       "      <td>65</td>\n",
       "    </tr>\n",
       "    <tr>\n",
       "      <th>positive</th>\n",
       "      <td>159</td>\n",
       "      <td>20</td>\n",
       "      <td>72</td>\n",
       "      <td>268</td>\n",
       "    </tr>\n",
       "  </tbody>\n",
       "</table>"
      ],
      "text/plain": [
       "<IPython.core.display.HTML object>"
      ]
     },
     "metadata": {},
     "output_type": "display_data"
    }
   ],
   "source": [
    "display(HTML('<table border=\"1\" class=\"dataframe\">\\n  <thead>\\n    <tr style=\"text-align: right;\">\\n      <th></th>\\n      <th>information</th>\\n      <th>negative</th>\\n      <th>neutral</th>\\n      <th>positive</th>\\n    </tr>\\n  </thead>\\n  <tbody>\\n    <tr>\\n      <th>information</th>\\n      <td>2780</td>\\n      <td>117</td>\\n      <td>203</td>\\n      <td>122</td>\\n    </tr>\\n    <tr>\\n      <th>negative</th>\\n      <td>132</td>\\n      <td>146</td>\\n      <td>53</td>\\n      <td>37</td>\\n    </tr>\\n    <tr>\\n      <th>neutral</th>\\n      <td>308</td>\\n      <td>38</td>\\n      <td>385</td>\\n      <td>65</td>\\n    </tr>\\n    <tr>\\n      <th>positive</th>\\n      <td>159</td>\\n      <td>20</td>\\n      <td>72</td>\\n      <td>268</td>\\n    </tr>\\n  </tbody>\\n</table>'))"
   ]
  },
  {
   "cell_type": "markdown",
   "id": "d30707ea",
   "metadata": {},
   "source": [
    "De acuerdo con la matriz, en este caso se asignó una mayor proporción de clases correctas en comparación con los modelos Naive Bayes. Sin embargo, también existe una cantidad considerable de cada clase asignada a la clase mayoritaria."
   ]
  },
  {
   "cell_type": "markdown",
   "id": "20db4544",
   "metadata": {},
   "source": [
    "A continuación se muestra la matriz de confusión obtenida para las predicciones realizadas con SVM y TF-IDF:"
   ]
  },
  {
   "cell_type": "code",
   "execution_count": 18,
   "id": "cfa479d4",
   "metadata": {},
   "outputs": [
    {
     "data": {
      "text/html": [
       "<table border=\"1\" class=\"dataframe\">\n",
       "  <thead>\n",
       "    <tr style=\"text-align: right;\">\n",
       "      <th></th>\n",
       "      <th>information</th>\n",
       "      <th>negative</th>\n",
       "      <th>neutral</th>\n",
       "      <th>positive</th>\n",
       "    </tr>\n",
       "  </thead>\n",
       "  <tbody>\n",
       "    <tr>\n",
       "      <th>information</th>\n",
       "      <td>2892</td>\n",
       "      <td>83</td>\n",
       "      <td>155</td>\n",
       "      <td>92</td>\n",
       "    </tr>\n",
       "    <tr>\n",
       "      <th>negative</th>\n",
       "      <td>140</td>\n",
       "      <td>141</td>\n",
       "      <td>56</td>\n",
       "      <td>31</td>\n",
       "    </tr>\n",
       "    <tr>\n",
       "      <th>neutral</th>\n",
       "      <td>318</td>\n",
       "      <td>32</td>\n",
       "      <td>391</td>\n",
       "      <td>55</td>\n",
       "    </tr>\n",
       "    <tr>\n",
       "      <th>positive</th>\n",
       "      <td>188</td>\n",
       "      <td>17</td>\n",
       "      <td>71</td>\n",
       "      <td>243</td>\n",
       "    </tr>\n",
       "  </tbody>\n",
       "</table>"
      ],
      "text/plain": [
       "<IPython.core.display.HTML object>"
      ]
     },
     "metadata": {},
     "output_type": "display_data"
    }
   ],
   "source": [
    "display(HTML('<table border=\"1\" class=\"dataframe\">\\n  <thead>\\n    <tr style=\"text-align: right;\">\\n      <th></th>\\n      <th>information</th>\\n      <th>negative</th>\\n      <th>neutral</th>\\n      <th>positive</th>\\n    </tr>\\n  </thead>\\n  <tbody>\\n    <tr>\\n      <th>information</th>\\n      <td>2892</td>\\n      <td>83</td>\\n      <td>155</td>\\n      <td>92</td>\\n    </tr>\\n    <tr>\\n      <th>negative</th>\\n      <td>140</td>\\n      <td>141</td>\\n      <td>56</td>\\n      <td>31</td>\\n    </tr>\\n    <tr>\\n      <th>neutral</th>\\n      <td>318</td>\\n      <td>32</td>\\n      <td>391</td>\\n      <td>55</td>\\n    </tr>\\n    <tr>\\n      <th>positive</th>\\n      <td>188</td>\\n      <td>17</td>\\n      <td>71</td>\\n      <td>243</td>\\n    </tr>\\n  </tbody>\\n</table>'))"
   ]
  },
  {
   "cell_type": "markdown",
   "id": "f0b1bde4",
   "metadata": {},
   "source": [
    "Con base en la matriz, se nota que la cantidad de verdaderos positivos aumentó comparada con el otro modelo de SVM con TF. Sin embargo, en la clase negativa la cantidad de instancias asociadas a la clase mayoritaria es casi igual que las asignadas a la clase verdadera. Para la clase positiva, disminuyeron los verdaderos positivos en comparación con el modelo anterior."
   ]
  },
  {
   "cell_type": "markdown",
   "id": "8634be55",
   "metadata": {},
   "source": [
    "#### Conjunto de agresividad"
   ]
  },
  {
   "cell_type": "markdown",
   "id": "46b77496",
   "metadata": {},
   "source": [
    "Luego, evaluamos las predicciones para el conjunto de agresividad. Los resultados se muestran en la siguiente tabla:"
   ]
  },
  {
   "cell_type": "markdown",
   "id": "0f8fe581",
   "metadata": {},
   "source": [
    "| Algoritmo   | Exactitud | Recall macro  |  Precisión macro | $F_{1}$ macro |Recall micro | Precision micro | $F_{1}$ micro |\n",
    "| ----------- | ----------- | ----------- | ----------- | ----------- | ----------- | ----------- | ----------- |\n",
    "| Naive Bayes TF      | 0.81830       | 0.73490     | 0.79622       | 0.75488       | 0.81830     |0.81830       | 0.81830     |\n",
    "| Naive Bayes TF-IDF   | 0.75455        |  0.57621     | 0.83970      |0.56059       | 0.75455      | 0.75455      | 0.75455       |\n",
    "| SVM TF      |  0.81193     | 0.74982      | 0.77451     |0.76006       | 0.81193      | 0.81193       | 0.81193       |\n",
    "| SVM TF-IDF   | 0.82468        | 0.76302      | 0.79266       |0.77511      | 0.82468      | 0.82468       | 0.82468       |"
   ]
  },
  {
   "cell_type": "markdown",
   "id": "8bdda63f",
   "metadata": {},
   "source": [
    "Con base en la tabla anterior, podemos ver que Naive Bayes con TF es el modelo de mayor exactitud. Sin embargo, en cuestión de precisión macro es superado por Naive Bayes con TF-IDF; para $F_{1}$ macro el modelo con la mejor puntuación es SVM con TF-IDF. En cuestión de recall, precisión y $F_{1}$ micro, podemos ver que los 3 valores son iguales entre sí e iguales a la exactitud.\n",
    "También en este caso, las métricas macro tienen el mismo valor que la exactitud debido a lo explicado en el conjunto anterior."
   ]
  },
  {
   "cell_type": "markdown",
   "id": "e2eb5b29",
   "metadata": {},
   "source": [
    "Se muestra la matriz de confusión obtenida para las predicciones realizadas con Naive Bayes y TF:"
   ]
  },
  {
   "cell_type": "code",
   "execution_count": 19,
   "id": "28758f64",
   "metadata": {},
   "outputs": [
    {
     "data": {
      "text/html": [
       "<table border=\"1\" class=\"dataframe\">\n",
       "  <thead>\n",
       "    <tr style=\"text-align: right;\">\n",
       "      <th></th>\n",
       "      <th>negativo</th>\n",
       "      <th>positivo</th>\n",
       "    </tr>\n",
       "  </thead>\n",
       "  <tbody>\n",
       "    <tr>\n",
       "      <th>negativo</th>\n",
       "      <td>1457</td>\n",
       "      <td>108</td>\n",
       "    </tr>\n",
       "    <tr>\n",
       "      <th>positivo</th>\n",
       "      <td>291</td>\n",
       "      <td>340</td>\n",
       "    </tr>\n",
       "  </tbody>\n",
       "</table>"
      ],
      "text/plain": [
       "<IPython.core.display.HTML object>"
      ]
     },
     "metadata": {},
     "output_type": "display_data"
    }
   ],
   "source": [
    "display(HTML('<table border=\"1\" class=\"dataframe\">\\n  <thead>\\n    <tr style=\"text-align: right;\">\\n      <th></th>\\n      <th>negativo</th>\\n      <th>positivo</th>\\n    </tr>\\n  </thead>\\n  <tbody>\\n    <tr>\\n      <th>negativo</th>\\n      <td>1457</td>\\n      <td>108</td>\\n    </tr>\\n    <tr>\\n      <th>positivo</th>\\n      <td>291</td>\\n      <td>340</td>\\n    </tr>\\n  </tbody>\\n</table>'))"
   ]
  },
  {
   "cell_type": "markdown",
   "id": "58dfd340",
   "metadata": {},
   "source": [
    "A continuación, se muestra la matriz de confusión obtenida para las predicciones realizadas con Naive Bayes y TF-IDF:"
   ]
  },
  {
   "cell_type": "code",
   "execution_count": 12,
   "id": "3189baec",
   "metadata": {},
   "outputs": [
    {
     "data": {
      "text/html": [
       "<table border=\"1\" class=\"dataframe\">\n",
       "  <thead>\n",
       "    <tr style=\"text-align: right;\">\n",
       "      <th></th>\n",
       "      <th>negativo</th>\n",
       "      <th>positivo</th>\n",
       "    </tr>\n",
       "  </thead>\n",
       "  <tbody>\n",
       "    <tr>\n",
       "      <th>negativo</th>\n",
       "      <td>1558</td>\n",
       "      <td>7</td>\n",
       "    </tr>\n",
       "    <tr>\n",
       "      <th>positivo</th>\n",
       "      <td>532</td>\n",
       "      <td>99</td>\n",
       "    </tr>\n",
       "  </tbody>\n",
       "</table>"
      ],
      "text/plain": [
       "<IPython.core.display.HTML object>"
      ]
     },
     "metadata": {},
     "output_type": "display_data"
    }
   ],
   "source": [
    "display(HTML('<table border=\"1\" class=\"dataframe\">\\n  <thead>\\n    <tr style=\"text-align: right;\">\\n      <th></th>\\n      <th>negativo</th>\\n      <th>positivo</th>\\n    </tr>\\n  </thead>\\n  <tbody>\\n    <tr>\\n      <th>negativo</th>\\n      <td>1558</td>\\n      <td>7</td>\\n    </tr>\\n    <tr>\\n      <th>positivo</th>\\n      <td>532</td>\\n      <td>99</td>\\n    </tr>\\n  </tbody>\\n</table>'))"
   ]
  },
  {
   "cell_type": "markdown",
   "id": "4f1fd732",
   "metadata": {},
   "source": [
    "Se muestra la matriz de confusión obtenida para las predicciones realizadas con SVM y TF:"
   ]
  },
  {
   "cell_type": "code",
   "execution_count": 13,
   "id": "8233ab6c",
   "metadata": {},
   "outputs": [
    {
     "data": {
      "text/html": [
       "<table border=\"1\" class=\"dataframe\">\n",
       "  <thead>\n",
       "    <tr style=\"text-align: right;\">\n",
       "      <th></th>\n",
       "      <th>negativo</th>\n",
       "      <th>positivo</th>\n",
       "    </tr>\n",
       "  </thead>\n",
       "  <tbody>\n",
       "    <tr>\n",
       "      <th>negativo</th>\n",
       "      <td>1402</td>\n",
       "      <td>163</td>\n",
       "    </tr>\n",
       "    <tr>\n",
       "      <th>positivo</th>\n",
       "      <td>250</td>\n",
       "      <td>381</td>\n",
       "    </tr>\n",
       "  </tbody>\n",
       "</table>"
      ],
      "text/plain": [
       "<IPython.core.display.HTML object>"
      ]
     },
     "metadata": {},
     "output_type": "display_data"
    }
   ],
   "source": [
    "display(HTML('<table border=\"1\" class=\"dataframe\">\\n  <thead>\\n    <tr style=\"text-align: right;\">\\n      <th></th>\\n      <th>negativo</th>\\n      <th>positivo</th>\\n    </tr>\\n  </thead>\\n  <tbody>\\n    <tr>\\n      <th>negativo</th>\\n      <td>1402</td>\\n      <td>163</td>\\n    </tr>\\n    <tr>\\n      <th>positivo</th>\\n      <td>250</td>\\n      <td>381</td>\\n    </tr>\\n  </tbody>\\n</table>'))"
   ]
  },
  {
   "cell_type": "markdown",
   "id": "eb00106b",
   "metadata": {},
   "source": [
    "A continuación, se muestra la matriz de confusión obtenida para las predicciones realizadas con SVM y TF-IDF:"
   ]
  },
  {
   "cell_type": "code",
   "execution_count": 14,
   "id": "55a654f0",
   "metadata": {},
   "outputs": [
    {
     "data": {
      "text/html": [
       "<table border=\"1\" class=\"dataframe\">\n",
       "  <thead>\n",
       "    <tr style=\"text-align: right;\">\n",
       "      <th></th>\n",
       "      <th>negativo</th>\n",
       "      <th>positivo</th>\n",
       "    </tr>\n",
       "  </thead>\n",
       "  <tbody>\n",
       "    <tr>\n",
       "      <th>negativo</th>\n",
       "      <td>1421</td>\n",
       "      <td>144</td>\n",
       "    </tr>\n",
       "    <tr>\n",
       "      <th>positivo</th>\n",
       "      <td>241</td>\n",
       "      <td>390</td>\n",
       "    </tr>\n",
       "  </tbody>\n",
       "</table>"
      ],
      "text/plain": [
       "<IPython.core.display.HTML object>"
      ]
     },
     "metadata": {},
     "output_type": "display_data"
    }
   ],
   "source": [
    "display(HTML('<table border=\"1\" class=\"dataframe\">\\n  <thead>\\n    <tr style=\"text-align: right;\">\\n      <th></th>\\n      <th>negativo</th>\\n      <th>positivo</th>\\n    </tr>\\n  </thead>\\n  <tbody>\\n    <tr>\\n      <th>negativo</th>\\n      <td>1421</td>\\n      <td>144</td>\\n    </tr>\\n    <tr>\\n      <th>positivo</th>\\n      <td>241</td>\\n      <td>390</td>\\n    </tr>\\n  </tbody>\\n</table>'))"
   ]
  },
  {
   "cell_type": "markdown",
   "id": "47b75483",
   "metadata": {},
   "source": [
    "Como se observa en las matrices de confusión anteriores, el modelo Naive Bayes con TF-IDF es el que clasifica correctamente la mayor cantidad de verdaderos negativo, pero clasifica gran parte de los verdaderos positivos a la clase negativa. En este sentido, los modelos SVM tienen mejor proporción de verdaderos positivos, a pesar de que la cantidad de verdaderos negativos sea menor en comparación con los model Naive Bayes."
   ]
  },
  {
   "cell_type": "markdown",
   "id": "cd2d8c8d",
   "metadata": {},
   "source": [
    "### Gráficas de comparación por conjunto de datos"
   ]
  },
  {
   "cell_type": "markdown",
   "id": "41727eee",
   "metadata": {},
   "source": [
    "A partir de la información contenida en las tablas anteriores, se realizó una representación gráfica que se muestra a continuación:"
   ]
  },
  {
   "cell_type": "markdown",
   "id": "c145a652",
   "metadata": {},
   "source": [
    "#### Conjunto cellphones"
   ]
  },
  {
   "attachments": {
    "download.png": {
     "image/png": "[encoded data removed]"
    }
   },
   "cell_type": "markdown",
   "id": "2ab172df",
   "metadata": {},
   "source": [
    "![download.png](attachment:download.png)"
   ]
  },
  {
   "cell_type": "markdown",
   "id": "b685c5dc",
   "metadata": {},
   "source": [
    "En la gráfica anterior se observan las métricas para el conjunto cellphones. Se nota que el modelo con mejor precisión es Naive Bayes con TF-IDF, sin embargo es el modelo con menor recall macro, lo que indica que no identifica correctamente las instancias de cada clase. Por ende, su $F_{1}$ también es el más bajo. \n",
    "Por otra parte, los modelos SVM con TF-IDF o TF tienen los valores más altos de exactitud y recall, por lo que podemos considerar que identifican correctamente las instancias de cada clase y predicen correctamente clases de las mismas. Por lo tanto, son mejores para este conjunto de datos."
   ]
  },
  {
   "cell_type": "markdown",
   "id": "307d4a34",
   "metadata": {},
   "source": [
    "#### Conjunto de agresividad"
   ]
  },
  {
   "attachments": {
    "download.png": {
     "image/png": "[encoded data removed]"
    }
   },
   "cell_type": "markdown",
   "id": "621198b7",
   "metadata": {},
   "source": [
    "![download.png](attachment:download.png)"
   ]
  },
  {
   "cell_type": "markdown",
   "id": "53dd1d5c",
   "metadata": {},
   "source": [
    "En la gráfica anterior, se encuentran las métricas para el conjunto de agresividad. Se puede observar que el modelo con mejor exactitud es SVM con TF-IDF, seguido de cerca por Naive Bayes con TF y SVM con TF. En cuestión de precisión macro, el modelo con mejor precisión es Naive Bayes con TF-IDF, sin embargo, posee los peores valores de recall y $F_{1}$ comparado con los demás. Con base en lo anteriormente expuesto, los mejores modelos para este conjunto son SVM (ambas versiones) y Naive Bayes con TF."
   ]
  },
  {
   "cell_type": "markdown",
   "id": "bc109772",
   "metadata": {},
   "source": [
    "Finalmente, debe recordarse queaún pueden aplicarse técnicas para mejorar el desempeño de los algoritmos, como refinar el preprocesamiento del texto, optimización de los hiperparámetros de los algoritmos o técnicas para lidiar con el desbalance de clases."
   ]
  },
  {
   "cell_type": "markdown",
   "id": "c31e7342",
   "metadata": {},
   "source": [
    "# Conclusiones"
   ]
  },
  {
   "cell_type": "markdown",
   "id": "ba345090",
   "metadata": {},
   "source": [
    "La clasificación es una tarea fundamental en el procesamiento de lenguaje natural y el aprendizaje automático; sus aplicaciones y potencial son inmensas ya que permite el desarrollo de modelos predictivos, facilita el reconocimiento de patrones en texto y sirve como bloque de construcción para sistemas que ayuden a la toma de decisiones y proporcionen herramientas para recuperar, organizar y obtener conocimiento a partir de la vasta información textual que existe.\n",
    "\n",
    "Por otra parte, la evaluación de los modelos de aprendizaje automático es crucial, pues no sólo permite conocer la calidad de las predicciones de un modelo, sino también da una pauta para comparar modelos entre sí, ayuda al proceso de desarrollo, (por ejemplo, al optimizar los hiperparámetros, saber si hay sobreajuste o subajuste, o identificar problemas como desbalance de clases) y, además,  permite tomar decisiones informadas sobre qué modelo es el mejor para una tarea.  \n",
    "\n",
    "Finalmente, debe mencionarse que continuará siendo un área importante de cara al futuro, pues al seguir aumentando la información, será necesario contar con sistemas automáticos que permitan sacar el mayor provecho de ésta y aún más el contar con métodos que provean formas de evaluarlos."
   ]
  }
 ],
 "metadata": {
  "kernelspec": {
   "display_name": "Python 3 (ipykernel)",
   "language": "python",
   "name": "python3"
  },
  "language_info": {
   "codemirror_mode": {
    "name": "ipython",
    "version": 3
   },
   "file_extension": ".py",
   "mimetype": "text/x-python",
   "name": "python",
   "nbconvert_exporter": "python",
   "pygments_lexer": "ipython3",
   "version": "3.10.9"
  }
 },
 "nbformat": 4,
 "nbformat_minor": 5
}
